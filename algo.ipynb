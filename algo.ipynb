{
 "cells": [
  {
   "cell_type": "code",
   "execution_count": 11,
   "metadata": {},
   "outputs": [],
   "source": [
    "graph = {\"a\":[\"b\", \"d\"], \n",
    " \"b\":[],\n",
    " \"c\":[],\n",
    " \"d\":[\"e\",\"g\"], \n",
    " \"e\":[\"c\"],\n",
    " \"f\":[],\n",
    " \"g\":[\"f\"]\n",
    "  }"
   ]
  },
  {
   "cell_type": "code",
   "execution_count": 31,
   "metadata": {},
   "outputs": [],
   "source": [
    "## Depth First Search\n",
    "def dfs(graph, source):\n",
    "    node_list = []\n",
    "    stack = []\n",
    "    stack.append(source)\n",
    "    while stack:\n",
    "        poped_one = stack.pop(-1)\n",
    "        node_list.append(poped_one)\n",
    "        for neighbor in graph[poped_one]:\n",
    "            stack.append(neighbor)\n",
    "    return node_list"
   ]
  },
  {
   "cell_type": "code",
   "execution_count": 10,
   "metadata": {},
   "outputs": [],
   "source": [
    "## Breadth First Search\n",
    "def bfs(graph, source):\n",
    "    queue = []\n",
    "    queue.append(source)\n",
    "    while queue:\n",
    "        poped_one = queue.pop(0)\n",
    "        print(poped_one)\n",
    "        for neighbor in graph[poped_one]:\n",
    "            queue.append(neighbor)"
   ]
  },
  {
   "cell_type": "markdown",
   "metadata": {},
   "source": [
    "#### Check if there is a way from a source to a node (directed and acycliclic graph)"
   ]
  },
  {
   "cell_type": "code",
   "execution_count": 25,
   "metadata": {},
   "outputs": [
    {
     "data": {
      "text/plain": [
       "False"
      ]
     },
     "execution_count": 25,
     "metadata": {},
     "output_type": "execute_result"
    }
   ],
   "source": [
    "def isthereaway(graph, source, destination):\n",
    "    if source == destination : return True\n",
    "    \n",
    "    ans=False\n",
    "    for neighbor in graph[source]:\n",
    "        ans = ans or isthereaway(graph, neighbor, destination) # False or \n",
    "\n",
    "    return ans\n",
    "source = \"d\"\n",
    "destination = \"b\"\n",
    "isthereaway(graph, source, destination)\n"
   ]
  },
  {
   "cell_type": "markdown",
   "metadata": {},
   "source": [
    "#### Check if there is a way from a source to a node (undireected and cyclic)"
   ]
  },
  {
   "cell_type": "code",
   "execution_count": 30,
   "metadata": {},
   "outputs": [
    {
     "data": {
      "text/plain": [
       "False"
      ]
     },
     "execution_count": 30,
     "metadata": {},
     "output_type": "execute_result"
    }
   ],
   "source": [
    "def isthereaway(graph, source, destination, visited_nodes):\n",
    "    \n",
    "    if source == destination : return True\n",
    "    \n",
    "    ans=False\n",
    "    for neighbor in graph[source]:\n",
    "        if neighbor not in visited_nodes :\n",
    "            ans = ans or isthereaway(graph, neighbor, destination, visited_nodes) # False or \n",
    "        visited_nodes.add(neighbor)\n",
    "\n",
    "    return ans\n",
    "source = \"d\"\n",
    "destination = \"b\"\n",
    "visited_nodes = set()\n",
    "isthereaway(graph, source, destination)"
   ]
  },
  {
   "cell_type": "markdown",
   "metadata": {},
   "source": [
    "#### Get the number of subgraphs"
   ]
  },
  {
   "cell_type": "code",
   "execution_count": 34,
   "metadata": {},
   "outputs": [],
   "source": [
    "def number_subgraphs(graph):\n",
    "    nodes = list(graph.keys())\n",
    "    sub_nodes=[]\n",
    "    visited_nodes = set()\n",
    "    for node in nodes:\n",
    "        if node not in visited_nodes:\n",
    "            sub_nodes.append(dfs(graph, node))\n",
    "            set.add(visited_nodes)\n",
    "    \n",
    "    return len(sub_nodes), sub_nodes\n",
    "\n",
    "    "
   ]
  },
  {
   "cell_type": "code",
   "execution_count": 33,
   "metadata": {},
   "outputs": [
    {
     "data": {
      "text/plain": [
       "['a', 'b']"
      ]
     },
     "execution_count": 33,
     "metadata": {},
     "output_type": "execute_result"
    }
   ],
   "source": [
    "list({\"a\":[], \"b\":[]}.keys())"
   ]
  },
  {
   "cell_type": "markdown",
   "metadata": {},
   "source": [
    "#### **Shortest path**"
   ]
  },
  {
   "cell_type": "code",
   "execution_count": 1,
   "metadata": {},
   "outputs": [
    {
     "data": {
      "text/plain": [
       "['A', 'C', 'F']"
      ]
     },
     "execution_count": 1,
     "metadata": {},
     "output_type": "execute_result"
    }
   ],
   "source": [
    "graph = {\n",
    "    'A': ['B', 'C'],\n",
    "    'B': ['A', 'D', 'E'],\n",
    "    'C': ['A', 'F'],\n",
    "    'D': ['B'],\n",
    "    'E': ['B', 'F'],\n",
    "    'F': ['C', 'E']\n",
    "}\n",
    "\n",
    "\n",
    "def shortest_path(graph, source, destination):\n",
    "    # Queue will store tuples of (current node, path to current node)\n",
    "    queue = [(source, [source])]\n",
    "    \n",
    "    # Set to keep track of visited nodes\n",
    "    visited = set()\n",
    "    \n",
    "    while queue:\n",
    "        # Pop the first element from the queue\n",
    "        current_node, path = queue.pop(0)\n",
    "        \n",
    "        # If we reach the destination, return the path\n",
    "        if current_node == destination:\n",
    "            return path\n",
    "        \n",
    "        # Mark the node as visited\n",
    "        visited.add(current_node)\n",
    "        \n",
    "        # Explore neighbors\n",
    "        for neighbor in graph[current_node]:\n",
    "            if neighbor not in visited:\n",
    "                # Add neighbor and its path to the queue\n",
    "                queue.append((neighbor, path + [neighbor]))\n",
    "    \n",
    "    # If no path is found, return None\n",
    "    return None\n",
    "\n",
    "shortest_path(graph, 'A', 'F')"
   ]
  },
  {
   "cell_type": "markdown",
   "metadata": {},
   "source": [
    "### **Check if there are cycles**\n",
    "For every visited vertex v, if there is an adjascent vertex u such that u is already visited and u is not parent of v, then there is a cycle in the graph."
   ]
  },
  {
   "cell_type": "code",
   "execution_count": 12,
   "metadata": {},
   "outputs": [
    {
     "data": {
      "text/plain": [
       "False"
      ]
     },
     "execution_count": 12,
     "metadata": {},
     "output_type": "execute_result"
    }
   ],
   "source": [
    "## Breadth First Search\n",
    "def cycle_finder(graph, source):\n",
    "    queue = []\n",
    "    #add point and parent\n",
    "    queue.append((source, None))\n",
    "    visited=set()\n",
    "\n",
    "    while queue:\n",
    "        # Pop the first element from the queue\n",
    "        poped_one, parent = queue.pop(0)\n",
    "        # Mark the current node as visited\n",
    "        visited.add(poped_one)\n",
    "\n",
    "        for neighbor in graph[poped_one]:\n",
    "            # If the neighbor is not visited, add it to the queue with current node as its parent\n",
    "            if neighbor not in visited:\n",
    "                queue.append((neighbor, poped_one))\n",
    "            # If the neighbor is visited and is not the parent, there is a cycle\n",
    "            elif neighbor != parent :\n",
    "                return True\n",
    "\n",
    "            \n",
    "            \n",
    "    return False\n",
    "graph_no_cycle = {\n",
    "    'A': ['B', 'C'],\n",
    "    'B': ['A', 'D', 'E'],\n",
    "    'C': ['A', 'F'],\n",
    "    'D': ['B'],\n",
    "    'E': ['B'],\n",
    "    'F': ['C']\n",
    "}\n",
    "\n",
    "cycle_finder(graph_no_cycle, \"A\")"
   ]
  },
  {
   "cell_type": "markdown",
   "metadata": {},
   "source": [
    "## **DFS**"
   ]
  },
  {
   "cell_type": "code",
   "execution_count": 24,
   "metadata": {},
   "outputs": [
    {
     "data": {
      "text/plain": [
       "['A', 'B', 'F', 'C', 'D', 'E']"
      ]
     },
     "execution_count": 24,
     "metadata": {},
     "output_type": "execute_result"
    }
   ],
   "source": [
    "## Depth First Search\n",
    "def recursive_dfs(graph, current_node, visited_nodes=None):\n",
    "    if visited_nodes is None:\n",
    "        visited_nodes=set()\n",
    "\n",
    "    visited_nodes.add(current_node)\n",
    "\n",
    "    for neighbor in graph[current_node]:\n",
    "        if neighbor not in visited_nodes:\n",
    "            recursive_dfs(graph, neighbor, visited_nodes)\n",
    "\n",
    "    return list(visited_nodes)\n",
    "\n",
    "recursive_dfs(graph, \"A\")"
   ]
  },
  {
   "cell_type": "code",
   "execution_count": 36,
   "metadata": {},
   "outputs": [
    {
     "data": {
      "text/plain": [
       "['A', 'C', 'F', 'E', 'B', 'D']"
      ]
     },
     "execution_count": 36,
     "metadata": {},
     "output_type": "execute_result"
    }
   ],
   "source": [
    "## Depth First Search\n",
    "def iterative_dfs(graph, source):\n",
    "\n",
    "    nodes =[]\n",
    "    stack = [source]\n",
    "    visited_nodes=set()\n",
    "\n",
    "    while stack:\n",
    "        current_node = stack.pop(-1)\n",
    "\n",
    "        if current_node not in visited_nodes:\n",
    "            visited_nodes.add(current_node)\n",
    "            nodes.append(current_node)\n",
    "\n",
    "            for neighbor in graph[current_node]:\n",
    "                if neighbor not in visited_nodes:\n",
    "                    stack.append(neighbor)\n",
    "\n",
    "    return nodes\n",
    "\n",
    "    # Example graph\n",
    "graph = {\n",
    "    'A': ['B', 'C'],\n",
    "    'B': ['A', 'D', 'E'],\n",
    "    'C': ['A', 'F'],\n",
    "    'D': ['B'],\n",
    "    'E': ['B', 'F'],\n",
    "    'F': ['C', 'E']\n",
    "}\n",
    "\n",
    "# Run DFS starting from node 'A'\n",
    "iterative_dfs(graph, 'A')"
   ]
  },
  {
   "cell_type": "markdown",
   "metadata": {},
   "source": [
    "### **Cycle detection using DFS**\n",
    "To detect cycles in a graph using Depth-First Search (DFS), we can use the following approach:\n",
    "\n",
    "We maintain a visited list to track the nodes we've already visited.\n",
    "We maintain a recursion stack (or call stack) to track the nodes currently in the DFS traversal path. If a node appears in the recursion stack again, that means there's a cycle."
   ]
  },
  {
   "cell_type": "code",
   "execution_count": 47,
   "metadata": {},
   "outputs": [
    {
     "data": {
      "text/plain": [
       "False"
      ]
     },
     "execution_count": 47,
     "metadata": {},
     "output_type": "execute_result"
    }
   ],
   "source": [
    "## Depth First Search\n",
    "#We check if the node is already visited and we check if it is in our recusrsion stack\n",
    "def recursive_dfs(graph, current_node, stack=None, visited_nodes=None):\n",
    "    if visited_nodes is None:\n",
    "        visited_nodes=set()\n",
    "    if stack is None:\n",
    "        stack=[]\n",
    "\n",
    "    visited_nodes.add(current_node)\n",
    "    stack.append(current_node)\n",
    "\n",
    "    for neighbor in graph[current_node]:\n",
    "        if neighbor not in visited_nodes:\n",
    "            recursive_dfs(graph, neighbor, stack, visited_nodes)\n",
    "        elif neighbor in stack:\n",
    "            return True\n",
    "\n",
    "    return False\n",
    "\n",
    "graph = {\n",
    "    'A': ['B', 'C'],\n",
    "    'B': ['D', 'E'],\n",
    "    'C': ['F'],\n",
    "    'D': [],       # D has no outgoing edges\n",
    "    'E': ['F'],    # E points to F, but there are no backward connections to create cycles\n",
    "    'F': []        # F has no outgoing edges\n",
    "}\n",
    "graph_with_cycle = {\n",
    "    'A': ['B', 'C'],\n",
    "    'B': ['D'],\n",
    "    'C': ['E'],\n",
    "    'D': ['E'],\n",
    "    'E': ['B'],  # This creates a cycle: B -> D -> E -> B\n",
    "    'F': ['C']\n",
    "}\n",
    "recursive_dfs(graph_with_cycle, \"D\")"
   ]
  },
  {
   "cell_type": "markdown",
   "metadata": {},
   "source": [
    "### **Topological sorting**\n",
    "Applied to Acyclic Directed Graphs. For every directed edge (u,v), vertex u comes before v in the ordering"
   ]
  },
  {
   "cell_type": "code",
   "execution_count": 40,
   "metadata": {},
   "outputs": [
    {
     "data": {
      "text/plain": [
       "['F', 'B', 'A', 'D', 'C', 'E']"
      ]
     },
     "execution_count": 40,
     "metadata": {},
     "output_type": "execute_result"
    }
   ],
   "source": [
    "## Depth First Search\n",
    "# Difference stack and visited, the visited is update when we first meet the node\n",
    "# The stack is updated after all neighbors have been visited\n",
    "def recursive_dfs(graph, current_node, visited_nodes=None, stack=None):\n",
    "    if visited_nodes is None:\n",
    "        visited_nodes=set()\n",
    "    if stack is None:\n",
    "        stack=[]\n",
    "\n",
    "    visited_nodes.add(current_node)\n",
    "\n",
    "    for neighbor in graph[current_node]:\n",
    "        if neighbor not in visited_nodes:\n",
    "            recursive_dfs(graph, neighbor, visited_nodes, stack)\n",
    "    \n",
    "    # This ensures that the node is added to the stack only after all the neighbors have been visited\n",
    "    stack.append(current_node)\n",
    "\n",
    "    return stack\n",
    "\n",
    "### Cette fonction permet d'appeler tous les nodes, même ceux qui sont innacessibles\n",
    "def topological_sort(graph):\n",
    "    visited = set()   # Set to keep track of visited nodes\n",
    "    stack = []        # Stack to store the topological order\n",
    "    \n",
    "    # Call the recursive helper function for all vertices in the graph\n",
    "    for node in graph:\n",
    "        if node not in visited:\n",
    "            recursive_dfs(graph, node, visited, stack)\n",
    "    \n",
    "    # The stack contains the topological sort in reverse order\n",
    "    return stack[::-1]  # Return the reversed stack\n",
    "\n",
    "graph = {\n",
    "    'A': ['C', 'D'],\n",
    "    'B': ['D'],\n",
    "    'C': ['E'],\n",
    "    'D': ['E'],\n",
    "    'E': [],\n",
    "    'F': ['B', 'D']\n",
    "}\n",
    "\n",
    "#recursive_dfs(graph, \"A\")\n",
    "topological_sort(graph)"
   ]
  },
  {
   "cell_type": "markdown",
   "metadata": {},
   "source": [
    "### **SLIDING WINDOW ALGORITHM**\n",
    "\n",
    "Brute force is in o(nk)\n",
    "\n",
    "Smart algorithm is in o(n)"
   ]
  },
  {
   "cell_type": "code",
   "execution_count": 3,
   "metadata": {},
   "outputs": [
    {
     "data": {
      "text/plain": [
       "39"
      ]
     },
     "execution_count": 3,
     "metadata": {},
     "output_type": "execute_result"
    }
   ],
   "source": [
    "import random\n",
    "\n",
    "# Create a list of 20 random values\n",
    "random_values = [random.randint(1, 10) for _ in range(20)]\n",
    "def sliding_window_algo(values, window):\n",
    "\n",
    "    total = sum(values[:window])\n",
    "    greater_value = total\n",
    "\n",
    "    for i in range(len(values)-window):\n",
    "\n",
    "        total -= values[i]\n",
    "        total += values[i+window]\n",
    "        greater_value = max(greater_value, total)\n",
    "\n",
    "    return greater_value\n",
    "\n",
    "sliding_window_algo(random_values, 5)"
   ]
  },
  {
   "cell_type": "markdown",
   "metadata": {},
   "source": [
    "### **QUICK SORT ALGO**"
   ]
  },
  {
   "cell_type": "code",
   "execution_count": 5,
   "metadata": {},
   "outputs": [
    {
     "name": "stdout",
     "output_type": "stream",
     "text": [
      "[5, 7, 23, 32, 34, 62]\n"
     ]
    }
   ],
   "source": []
  },
  {
   "cell_type": "code",
   "execution_count": 8,
   "metadata": {},
   "outputs": [
    {
     "data": {
      "text/plain": [
       "6"
      ]
     },
     "execution_count": 8,
     "metadata": {},
     "output_type": "execute_result"
    }
   ],
   "source": [
    "12//2"
   ]
  },
  {
   "cell_type": "code",
   "execution_count": null,
   "metadata": {},
   "outputs": [],
   "source": [
    "#The objective is to retrieve the 5 contiguous elements with the highiest sum\n",
    "[]"
   ]
  }
 ],
 "metadata": {
  "kernelspec": {
   "display_name": "Python 3",
   "language": "python",
   "name": "python3"
  },
  "language_info": {
   "codemirror_mode": {
    "name": "ipython",
    "version": 3
   },
   "file_extension": ".py",
   "mimetype": "text/x-python",
   "name": "python",
   "nbconvert_exporter": "python",
   "pygments_lexer": "ipython3",
   "version": "3.11.5"
  }
 },
 "nbformat": 4,
 "nbformat_minor": 2
}
