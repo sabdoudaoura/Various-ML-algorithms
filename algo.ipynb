{
 "cells": [
  {
   "cell_type": "code",
   "execution_count": 11,
   "metadata": {},
   "outputs": [],
   "source": [
    "graph = {\"a\":[\"b\", \"d\"], \n",
    " \"b\":[],\n",
    " \"c\":[],\n",
    " \"d\":[\"e\",\"g\"], \n",
    " \"e\":[\"c\"],\n",
    " \"f\":[],\n",
    " \"g\":[\"f\"]\n",
    "  }"
   ]
  },
  {
   "cell_type": "code",
   "execution_count": 31,
   "metadata": {},
   "outputs": [],
   "source": [
    "## Depth First Search\n",
    "def dfs(graph, source):\n",
    "    node_list = []\n",
    "    stack = []\n",
    "    stack.append(source)\n",
    "    while stack:\n",
    "        poped_one = stack.pop(-1)\n",
    "        node_list.append(poped_one)\n",
    "        for neighbor in graph[poped_one]:\n",
    "            stack.append(neighbor)\n",
    "    return node_list"
   ]
  },
  {
   "cell_type": "code",
   "execution_count": 10,
   "metadata": {},
   "outputs": [],
   "source": [
    "## Breadth First Search\n",
    "def bfs(graph, source):\n",
    "    queue = []\n",
    "    queue.append(source)\n",
    "    while queue:\n",
    "        poped_one = queue.pop(0)\n",
    "        print(poped_one)\n",
    "        for neighbor in graph[poped_one]:\n",
    "            queue.append(neighbor)"
   ]
  },
  {
   "cell_type": "markdown",
   "metadata": {},
   "source": [
    "#### Check if there is a way from a source to a node (directed and acycliclic graph)"
   ]
  },
  {
   "cell_type": "code",
   "execution_count": 25,
   "metadata": {},
   "outputs": [
    {
     "data": {
      "text/plain": [
       "False"
      ]
     },
     "execution_count": 25,
     "metadata": {},
     "output_type": "execute_result"
    }
   ],
   "source": [
    "def isthereaway(graph, source, destination):\n",
    "    if source == destination : return True\n",
    "    \n",
    "    ans=False\n",
    "    for neighbor in graph[source]:\n",
    "        ans = ans or isthereaway(graph, neighbor, destination) # False or \n",
    "\n",
    "    return ans\n",
    "source = \"d\"\n",
    "destination = \"b\"\n",
    "isthereaway(graph, source, destination)\n"
   ]
  },
  {
   "cell_type": "markdown",
   "metadata": {},
   "source": [
    "#### Check if there is a way from a source to a node (undireected and cyclic)"
   ]
  },
  {
   "cell_type": "code",
   "execution_count": 30,
   "metadata": {},
   "outputs": [
    {
     "data": {
      "text/plain": [
       "False"
      ]
     },
     "execution_count": 30,
     "metadata": {},
     "output_type": "execute_result"
    }
   ],
   "source": [
    "def isthereaway(graph, source, destination, visited_nodes):\n",
    "    \n",
    "    if source == destination : return True\n",
    "    \n",
    "    ans=False\n",
    "    for neighbor in graph[source]:\n",
    "        if neighbor not in visited_nodes :\n",
    "            ans = ans or isthereaway(graph, neighbor, destination, visited_nodes) # False or \n",
    "        visited_nodes.add(neighbor)\n",
    "\n",
    "    return ans\n",
    "source = \"d\"\n",
    "destination = \"b\"\n",
    "visited_nodes = set()\n",
    "isthereaway(graph, source, destination)"
   ]
  },
  {
   "cell_type": "markdown",
   "metadata": {},
   "source": [
    "#### Get the number of subgraphs"
   ]
  },
  {
   "cell_type": "code",
   "execution_count": 34,
   "metadata": {},
   "outputs": [],
   "source": [
    "def number_subgraphs(graph):\n",
    "    nodes = list(graph.keys())\n",
    "    sub_nodes=[]\n",
    "    visited_nodes = set()\n",
    "    for node in nodes:\n",
    "        if node not in visited_nodes:\n",
    "            sub_nodes.append(dfs(graph, node))\n",
    "            set.add(visited_nodes)\n",
    "    \n",
    "    return len(sub_nodes), sub_nodes\n",
    "\n",
    "    "
   ]
  },
  {
   "cell_type": "code",
   "execution_count": 33,
   "metadata": {},
   "outputs": [
    {
     "data": {
      "text/plain": [
       "['a', 'b']"
      ]
     },
     "execution_count": 33,
     "metadata": {},
     "output_type": "execute_result"
    }
   ],
   "source": [
    "list({\"a\":[], \"b\":[]}.keys())"
   ]
  },
  {
   "cell_type": "markdown",
   "metadata": {},
   "source": [
    "#### **Shortest path**"
   ]
  },
  {
   "cell_type": "code",
   "execution_count": 1,
   "metadata": {},
   "outputs": [
    {
     "data": {
      "text/plain": [
       "['A', 'C', 'F']"
      ]
     },
     "execution_count": 1,
     "metadata": {},
     "output_type": "execute_result"
    }
   ],
   "source": [
    "graph = {\n",
    "    'A': ['B', 'C'],\n",
    "    'B': ['A', 'D', 'E'],\n",
    "    'C': ['A', 'F'],\n",
    "    'D': ['B'],\n",
    "    'E': ['B', 'F'],\n",
    "    'F': ['C', 'E']\n",
    "}\n",
    "\n",
    "\n",
    "def shortest_path(graph, source, destination):\n",
    "    # Queue will store tuples of (current node, path to current node)\n",
    "    queue = [(source, [source])]\n",
    "    \n",
    "    # Set to keep track of visited nodes\n",
    "    visited = set()\n",
    "    \n",
    "    while queue:\n",
    "        # Pop the first element from the queue\n",
    "        current_node, path = queue.pop(0)\n",
    "        \n",
    "        # If we reach the destination, return the path\n",
    "        if current_node == destination:\n",
    "            return path\n",
    "        \n",
    "        # Mark the node as visited\n",
    "        visited.add(current_node)\n",
    "        \n",
    "        # Explore neighbors\n",
    "        for neighbor in graph[current_node]:\n",
    "            if neighbor not in visited:\n",
    "                # Add neighbor and its path to the queue\n",
    "                queue.append((neighbor, path + [neighbor]))\n",
    "    \n",
    "    # If no path is found, return None\n",
    "    return None\n",
    "\n",
    "shortest_path(graph, 'A', 'F')"
   ]
  },
  {
   "cell_type": "code",
   "execution_count": null,
   "metadata": {},
   "outputs": [],
   "source": [
    "## Breadth First Search\n",
    "def bfs(graph, source):\n",
    "    queue = []\n",
    "    #add point and parent\n",
    "    queue.append((source, None))\n",
    "    visited=set()\n",
    "\n",
    "    while queue:\n",
    "        poped_one = queue.pop(0)\n",
    "       \n",
    "        for neighbor, parent in graph[poped_one]:\n",
    "            if neighbor in visited:\n",
    "                if neighbor != parent :\n",
    "                    return True\n",
    "\n",
    "            queue.append((neighbor, poped_one))\n",
    "            visited.add(neighbor)\n",
    "    return False"
   ]
  },
  {
   "cell_type": "code",
   "execution_count": null,
   "metadata": {},
   "outputs": [],
   "source": []
  },
  {
   "cell_type": "code",
   "execution_count": null,
   "metadata": {},
   "outputs": [],
   "source": []
  }
 ],
 "metadata": {
  "kernelspec": {
   "display_name": "Python 3",
   "language": "python",
   "name": "python3"
  },
  "language_info": {
   "codemirror_mode": {
    "name": "ipython",
    "version": 3
   },
   "file_extension": ".py",
   "mimetype": "text/x-python",
   "name": "python",
   "nbconvert_exporter": "python",
   "pygments_lexer": "ipython3",
   "version": "3.11.5"
  }
 },
 "nbformat": 4,
 "nbformat_minor": 2
}
