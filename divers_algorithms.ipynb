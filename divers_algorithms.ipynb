{
 "cells": [
  {
   "cell_type": "markdown",
   "metadata": {},
   "source": [
    "### **Heap sort**"
   ]
  },
  {
   "cell_type": "code",
   "execution_count": null,
   "metadata": {},
   "outputs": [],
   "source": [
    "import heapq\n",
    "\n",
    "def top_3_elements_heap(arr):\n",
    "    if len(arr) < 3:\n",
    "        return sorted(arr, reverse=True)  # If the array has less than 3 elements, return all sorted\n",
    "    \n",
    "    # Create a min-heap for the first 3 elements\n",
    "    # Un heap avec en tête le plus petit des 3 elements\n",
    "    top_3 = arr[:3]\n",
    "    heapq.heapify(top_3)\n",
    "\n",
    "    # Process the rest of the array\n",
    "    for num in arr[3:]:\n",
    "        if num > top_3[0]:\n",
    "            # Recree un nouveau heap en remplaçant la tête (le plus petit) par un element plus grand trouvé et rebat les élements du heap\n",
    "            heapq.heapreplace(top_3, num)  # Replace the smallest element with the current one if it's larger\n",
    "    \n",
    "    return sorted(top_3, reverse=True)  # Sort and return the top 3 elements in descending order\n",
    "\n",
    "# Example usage:\n",
    "arr = [10, 4, 3, 50, 23, 90]\n",
    "print(\"Top 3 elements (using heap):\", top_3_elements_heap(arr))\n"
   ]
  },
  {
   "cell_type": "code",
   "execution_count": 3,
   "metadata": {},
   "outputs": [
    {
     "name": "stdout",
     "output_type": "stream",
     "text": [
      "None\n"
     ]
    }
   ],
   "source": [
    "import heapq\n",
    "print(heapq.heapify([1,2,3]))"
   ]
  },
  {
   "cell_type": "code",
   "execution_count": null,
   "metadata": {},
   "outputs": [],
   "source": []
  }
 ],
 "metadata": {
  "kernelspec": {
   "display_name": ".venv",
   "language": "python",
   "name": "python3"
  },
  "language_info": {
   "codemirror_mode": {
    "name": "ipython",
    "version": 3
   },
   "file_extension": ".py",
   "mimetype": "text/x-python",
   "name": "python",
   "nbconvert_exporter": "python",
   "pygments_lexer": "ipython3",
   "version": "3.11.5"
  }
 },
 "nbformat": 4,
 "nbformat_minor": 2
}
