{
 "cells": [
  {
   "cell_type": "markdown",
   "metadata": {},
   "source": [
    "### **Heap sort**"
   ]
  },
  {
   "cell_type": "code",
   "execution_count": null,
   "metadata": {},
   "outputs": [],
   "source": [
    "import heapq\n",
    "\n",
    "def top_3_elements_heap(arr):\n",
    "    if len(arr) < 3:\n",
    "        return sorted(arr, reverse=True)  # If the array has less than 3 elements, return all sorted\n",
    "    \n",
    "    # Create a min-heap for the first 3 elements\n",
    "    # Un heap avec en tête le plus petit des 3 elements\n",
    "    top_3 = arr[:3]\n",
    "    heapq.heapify(top_3)\n",
    "\n",
    "    # Process the rest of the array\n",
    "    for num in arr[3:]:\n",
    "        if num > top_3[0]:\n",
    "            # Recree un nouveau heap en remplaçant la tête (le plus petit) par un element plus grand trouvé et rebat les élements du heap\n",
    "            heapq.heapreplace(top_3, num)  # Replace the smallest element with the current one if it's larger\n",
    "    \n",
    "    return sorted(top_3, reverse=True)  # Sort and return the top 3 elements in descending order\n",
    "\n",
    "# Example usage:\n",
    "arr = [10, 4, 3, 50, 23, 90]\n",
    "print(\"Top 3 elements (using heap):\", top_3_elements_heap(arr))\n"
   ]
  },
  {
   "cell_type": "code",
   "execution_count": 3,
   "metadata": {},
   "outputs": [
    {
     "name": "stdout",
     "output_type": "stream",
     "text": [
      "None\n"
     ]
    }
   ],
   "source": [
    "import heapq\n",
    "print(heapq.heapify([1,2,3]))"
   ]
  },
  {
   "cell_type": "code",
   "execution_count": null,
   "metadata": {},
   "outputs": [],
   "source": [
    "# we choose a pivot\n",
    "# we continiously split such that all items to the left are smaller and \n",
    "# all items from right are larger\n",
    "# we are done when index of the large item is larger than index of the small item\n",
    "# link : https://www.youtube.com/watch?v=Hoixgm4-P4M\n",
    "# worst case complexity \n",
    "# average complexity\n",
    "\n",
    "def quicksort(arr):\n",
    "    # Base case: an array with 0 or 1 elements is already sorted\n",
    "    if len(arr) <= 1:\n",
    "        return arr\n",
    "    \n",
    "    # Choose a pivot (typically the last element or can be randomized)\n",
    "    pivot = arr[len(arr) // 2]  # Picking the middle element as the pivot\n",
    "    \n",
    "    # Partitioning: create 3 lists to hold elements < pivot, == pivot, and > pivot\n",
    "    left = [x for x in arr if x < pivot]\n",
    "    middle = [x for x in arr if x == pivot]\n",
    "    right = [x for x in arr if x > pivot]\n",
    "    \n",
    "    # Recursively apply quicksort to left and right partitions\n",
    "    return quicksort(left) + middle + quicksort(right)\n",
    "\n",
    "arr = [34, 7, 23, 32, 5, 62]\n",
    "print(quicksort(arr))  # Expected output: [5, 7, 23, 32, 34, 62]"
   ]
  },
  {
   "cell_type": "markdown",
   "metadata": {},
   "source": [
    "### **COMPUTE FIBONACCI NUMBER USING DYNAMIC PROGRAMMING**"
   ]
  },
  {
   "cell_type": "code",
   "execution_count": 8,
   "metadata": {},
   "outputs": [
    {
     "data": {
      "text/plain": [
       "8"
      ]
     },
     "execution_count": 8,
     "metadata": {},
     "output_type": "execute_result"
    }
   ],
   "source": [
    "# we use dynamic programming as we store the result of previous calculation to avoid recalculation\n",
    "def fibonacci(n):\n",
    "\n",
    "    fib = [0]*(n+1)\n",
    "    fib[0] = 1\n",
    "    fib[1] = 1\n",
    "\n",
    "    for i in range(2, n+1):\n",
    "        fib[i] = fib[i-1] + fib[i-2]\n",
    "\n",
    "    return fib[n]\n",
    "fibonacci(5)\n",
    "\n",
    "\n"
   ]
  },
  {
   "cell_type": "markdown",
   "metadata": {},
   "source": [
    "### **PAGE RANK ALGORITHM**"
   ]
  },
  {
   "cell_type": "code",
   "execution_count": null,
   "metadata": {},
   "outputs": [],
   "source": []
  },
  {
   "cell_type": "code",
   "execution_count": null,
   "metadata": {},
   "outputs": [],
   "source": []
  },
  {
   "cell_type": "code",
   "execution_count": null,
   "metadata": {},
   "outputs": [],
   "source": []
  },
  {
   "cell_type": "markdown",
   "metadata": {},
   "source": [
    "### **String preprocessing algorithm**\n",
    "Convert the text to lowercase\n",
    "\n",
    "Remove punctuation\n",
    "\n",
    "Tokenize the text into words\n",
    "\n",
    "Remove stopwords using a provided stopword list"
   ]
  },
  {
   "cell_type": "code",
   "execution_count": 12,
   "metadata": {},
   "outputs": [
    {
     "name": "stdout",
     "output_type": "stream",
     "text": [
      "['quick', 'brown', 'fox', 'jumps', 'over', 'lazy', 'dog', 'park']\n"
     ]
    }
   ],
   "source": [
    "import string\n",
    "\n",
    "stopwords = {'and', 'is', 'in', 'the', 'to', 'with'}\n",
    "\n",
    "def preprocess(text):\n",
    "\n",
    "    text = text.lower()\n",
    "    # Removing punctuation\n",
    "    text = text.translate(str.maketrans('', '', string.punctuation)) #remove punctuations\n",
    "    tokenized_text = text.split()\n",
    "    preprocessed_text = [word for word in tokenized_text if word not in stopwords] #removes stopwords\n",
    "\n",
    "    return preprocessed_text \n",
    "\n",
    "text = \"The quick brown fox jumps over the lazy dog in the park.\"\n",
    "processed_text = preprocess(text)\n",
    "print(processed_text)  \n",
    "# Expected output: ['quick', 'brown', 'fox', 'jumps', 'over', 'lazy', 'dog', 'park']\n"
   ]
  },
  {
   "cell_type": "code",
   "execution_count": 11,
   "metadata": {},
   "outputs": [
    {
     "ename": "ValueError",
     "evalue": "empty separator",
     "output_type": "error",
     "traceback": [
      "\u001b[1;31m---------------------------------------------------------------------------\u001b[0m",
      "\u001b[1;31mValueError\u001b[0m                                Traceback (most recent call last)",
      "Cell \u001b[1;32mIn[11], line 2\u001b[0m\n\u001b[0;32m      1\u001b[0m \u001b[38;5;28;01mimport\u001b[39;00m \u001b[38;5;21;01mstring\u001b[39;00m\n\u001b[1;32m----> 2\u001b[0m \u001b[43mstring\u001b[49m\u001b[38;5;241;43m.\u001b[39;49m\u001b[43mpunctuation\u001b[49m\u001b[38;5;241;43m.\u001b[39;49m\u001b[43msplit\u001b[49m\u001b[43m(\u001b[49m\u001b[38;5;124;43m'\u001b[39;49m\u001b[38;5;124;43m'\u001b[39;49m\u001b[43m)\u001b[49m\n",
      "\u001b[1;31mValueError\u001b[0m: empty separator"
     ]
    }
   ],
   "source": [
    "import string\n",
    "string.punctuation.split('')"
   ]
  },
  {
   "cell_type": "code",
   "execution_count": null,
   "metadata": {},
   "outputs": [],
   "source": []
  }
 ],
 "metadata": {
  "kernelspec": {
   "display_name": ".venv",
   "language": "python",
   "name": "python3"
  },
  "language_info": {
   "codemirror_mode": {
    "name": "ipython",
    "version": 3
   },
   "file_extension": ".py",
   "mimetype": "text/x-python",
   "name": "python",
   "nbconvert_exporter": "python",
   "pygments_lexer": "ipython3",
   "version": "3.11.5"
  }
 },
 "nbformat": 4,
 "nbformat_minor": 2
}
